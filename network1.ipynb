{
 "cells": [
  {
   "cell_type": "code",
   "execution_count": 1,
   "id": "1d827a65-0692-4b69-b32f-6cb8e14de644",
   "metadata": {},
   "outputs": [
    {
     "name": "stderr",
     "output_type": "stream",
     "text": [
      "/var/folders/8c/v2m6xjg91kl8w54htt5jznhm0000gn/T/ipykernel_18169/3239929763.py:1: DeprecationWarning: \n",
      "Pyarrow will become a required dependency of pandas in the next major release of pandas (pandas 3.0),\n",
      "(to allow more performant data types, such as the Arrow string type, and better interoperability with other libraries)\n",
      "but was not found to be installed on your system.\n",
      "If this would cause problems for you,\n",
      "please provide us feedback at https://github.com/pandas-dev/pandas/issues/54466\n",
      "        \n",
      "  import pandas as pd\n"
     ]
    }
   ],
   "source": [
    "import pandas as pd\n",
    "import networkx as nx\n",
    "import matplotlib.pyplot as plt\n",
    "%matplotlib inline"
   ]
  },
  {
   "cell_type": "code",
   "execution_count": 2,
   "id": "9dddb4ca-75bd-48f6-82ab-838b4f254490",
   "metadata": {},
   "outputs": [
    {
     "data": {
      "text/html": [
       "<div>\n",
       "<style scoped>\n",
       "    .dataframe tbody tr th:only-of-type {\n",
       "        vertical-align: middle;\n",
       "    }\n",
       "\n",
       "    .dataframe tbody tr th {\n",
       "        vertical-align: top;\n",
       "    }\n",
       "\n",
       "    .dataframe thead th {\n",
       "        text-align: right;\n",
       "    }\n",
       "</style>\n",
       "<table border=\"1\" class=\"dataframe\">\n",
       "  <thead>\n",
       "    <tr style=\"text-align: right;\">\n",
       "      <th></th>\n",
       "      <th>Source</th>\n",
       "      <th>Target</th>\n",
       "      <th>Type</th>\n",
       "      <th>weight</th>\n",
       "      <th>book</th>\n",
       "    </tr>\n",
       "  </thead>\n",
       "  <tbody>\n",
       "    <tr>\n",
       "      <th>8</th>\n",
       "      <td>Aemon-Targaryen-(Maester-Aemon)</td>\n",
       "      <td>Jeor-Mormont</td>\n",
       "      <td>Undirected</td>\n",
       "      <td>13</td>\n",
       "      <td>1</td>\n",
       "    </tr>\n",
       "    <tr>\n",
       "      <th>9</th>\n",
       "      <td>Aemon-Targaryen-(Maester-Aemon)</td>\n",
       "      <td>Jon-Snow</td>\n",
       "      <td>Undirected</td>\n",
       "      <td>34</td>\n",
       "      <td>1</td>\n",
       "    </tr>\n",
       "    <tr>\n",
       "      <th>16</th>\n",
       "      <td>Aerys-II-Targaryen</td>\n",
       "      <td>Robert-Baratheon</td>\n",
       "      <td>Undirected</td>\n",
       "      <td>12</td>\n",
       "      <td>1</td>\n",
       "    </tr>\n",
       "    <tr>\n",
       "      <th>17</th>\n",
       "      <td>Aggo</td>\n",
       "      <td>Daenerys-Targaryen</td>\n",
       "      <td>Undirected</td>\n",
       "      <td>11</td>\n",
       "      <td>1</td>\n",
       "    </tr>\n",
       "    <tr>\n",
       "      <th>30</th>\n",
       "      <td>Alliser-Thorne</td>\n",
       "      <td>Jon-Snow</td>\n",
       "      <td>Undirected</td>\n",
       "      <td>32</td>\n",
       "      <td>1</td>\n",
       "    </tr>\n",
       "    <tr>\n",
       "      <th>...</th>\n",
       "      <td>...</td>\n",
       "      <td>...</td>\n",
       "      <td>...</td>\n",
       "      <td>...</td>\n",
       "      <td>...</td>\n",
       "    </tr>\n",
       "    <tr>\n",
       "      <th>658</th>\n",
       "      <td>Sandor-Clegane</td>\n",
       "      <td>Sansa-Stark</td>\n",
       "      <td>Undirected</td>\n",
       "      <td>23</td>\n",
       "      <td>1</td>\n",
       "    </tr>\n",
       "    <tr>\n",
       "      <th>664</th>\n",
       "      <td>Shae</td>\n",
       "      <td>Tyrion-Lannister</td>\n",
       "      <td>Undirected</td>\n",
       "      <td>12</td>\n",
       "      <td>1</td>\n",
       "    </tr>\n",
       "    <tr>\n",
       "      <th>666</th>\n",
       "      <td>Shagga</td>\n",
       "      <td>Tyrion-Lannister</td>\n",
       "      <td>Undirected</td>\n",
       "      <td>17</td>\n",
       "      <td>1</td>\n",
       "    </tr>\n",
       "    <tr>\n",
       "      <th>676</th>\n",
       "      <td>Tyrion-Lannister</td>\n",
       "      <td>Tywin-Lannister</td>\n",
       "      <td>Undirected</td>\n",
       "      <td>40</td>\n",
       "      <td>1</td>\n",
       "    </tr>\n",
       "    <tr>\n",
       "      <th>683</th>\n",
       "      <td>Waymar-Royce</td>\n",
       "      <td>Will-(prologue)</td>\n",
       "      <td>Undirected</td>\n",
       "      <td>18</td>\n",
       "      <td>1</td>\n",
       "    </tr>\n",
       "  </tbody>\n",
       "</table>\n",
       "<p>175 rows × 5 columns</p>\n",
       "</div>"
      ],
      "text/plain": [
       "                              Source              Target        Type  weight  \\\n",
       "8    Aemon-Targaryen-(Maester-Aemon)        Jeor-Mormont  Undirected      13   \n",
       "9    Aemon-Targaryen-(Maester-Aemon)            Jon-Snow  Undirected      34   \n",
       "16                Aerys-II-Targaryen    Robert-Baratheon  Undirected      12   \n",
       "17                              Aggo  Daenerys-Targaryen  Undirected      11   \n",
       "30                    Alliser-Thorne            Jon-Snow  Undirected      32   \n",
       "..                               ...                 ...         ...     ...   \n",
       "658                   Sandor-Clegane         Sansa-Stark  Undirected      23   \n",
       "664                             Shae    Tyrion-Lannister  Undirected      12   \n",
       "666                           Shagga    Tyrion-Lannister  Undirected      17   \n",
       "676                 Tyrion-Lannister     Tywin-Lannister  Undirected      40   \n",
       "683                     Waymar-Royce     Will-(prologue)  Undirected      18   \n",
       "\n",
       "     book  \n",
       "8       1  \n",
       "9       1  \n",
       "16      1  \n",
       "17      1  \n",
       "30      1  \n",
       "..    ...  \n",
       "658     1  \n",
       "664     1  \n",
       "666     1  \n",
       "676     1  \n",
       "683     1  \n",
       "\n",
       "[175 rows x 5 columns]"
      ]
     },
     "execution_count": 2,
     "metadata": {},
     "output_type": "execute_result"
    }
   ],
   "source": [
    "df = pd.read_csv(\"data/book1.csv\")\n",
    "df = df.loc[df['weight'] > 10, :]\n",
    "df"
   ]
  },
  {
   "cell_type": "code",
   "execution_count": 3,
   "id": "4bd356f1-3842-4272-b07a-b852d8b9aa5b",
   "metadata": {},
   "outputs": [
    {
     "name": "stdout",
     "output_type": "stream",
     "text": [
      "No. of unique characters: 80\n",
      "No. of connections: 175\n"
     ]
    }
   ],
   "source": [
    "G = nx.from_pandas_edgelist(df, source='Source', target='Target', edge_attr='weight')\n",
    "print(\"No. of unique characters:\", len(G.nodes))\n",
    "print(\"No. of connections:\", len(G.edges))"
   ]
  },
  {
   "cell_type": "code",
   "execution_count": 4,
   "id": "0dac1790-55d7-4bbe-9948-3a7f8339f6e8",
   "metadata": {},
   "outputs": [
    {
     "data": {
      "image/png": "[encoded data removed]",
      "text/plain": [
       "<Figure size 800x600 with 1 Axes>"
      ]
     },
     "metadata": {},
     "output_type": "display_data"
    }
   ],
   "source": [
    "graphs_viz_options = [nx.draw, nx.draw_networkx, nx.draw_circular, nx.draw_kamada_kawai, nx.draw_random, nx.draw_spring]\n",
    "selected_graph_option = 0\n",
    "\n",
    "plt.figure(figsize=(8,6), dpi=100)\n",
    "graphs_viz_options[selected_graph_option](G)"
   ]
  },
  {
   "cell_type": "code",
   "execution_count": 13,
   "id": "0b37f0d0-d2aa-4356-a56c-8cd2438683f8",
   "metadata": {},
   "outputs": [
    {
     "name": "stdout",
     "output_type": "stream",
     "text": [
      "No. of unique characters: 4\n",
      "No. of connections: 6\n"
     ]
    },
    {
     "data": {
      "image/png": "[encoded data removed]",
      "text/plain": [
       "<Figure size 640x480 with 1 Axes>"
      ]
     },
     "metadata": {},
     "output_type": "display_data"
    }
   ],
   "source": [
    "# Graph a dict of dicts\n",
    "dod = {\"Dad\": {\"Mom\": {\"weight\": 1}, \"Son\": {\"weight\": 10}, \"Daughter\": {\"weight\": 10}\n",
    "              },\n",
    "       \"Mom\": {\"Son\": {\"weight\": 10}, \"Daughter\": {\"weight\": 10}},\n",
    "       \"Son\": {\"Daughter\": {\"weight\": 20}},\n",
    "    }\n",
    "G = nx.from_dict_of_dicts(dod)\n",
    "print(\"No. of unique characters:\", len(G.nodes))\n",
    "print(\"No. of connections:\", len(G.edges))\n",
    "nx.draw(G)"
   ]
  },
  {
   "cell_type": "code",
   "execution_count": 2,
   "id": "83e73146-fac3-4c1e-a149-7986c339c99c",
   "metadata": {},
   "outputs": [
    {
     "name": "stdout",
     "output_type": "stream",
     "text": [
      "No. of unique characters: 4\n",
      "No. of connections: 3\n"
     ]
    },
    {
     "data": {
      "image/png": "[encoded data removed]",
      "text/plain": [
       "<Figure size 640x480 with 1 Axes>"
      ]
     },
     "metadata": {},
     "output_type": "display_data"
    }
   ],
   "source": [
    "# Graph a dict of dicts\n",
    "dod = {\"Dad\": {\"Mom\": {\"weight\": 1}, \"Son\": {\"weight\": 10}, \"Daughter\": {\"weight\": 10}\n",
    "              },\n",
    "    }\n",
    "G = nx.from_dict_of_dicts(dod)\n",
    "print(\"No. of unique characters:\", len(G.nodes))\n",
    "print(\"No. of connections:\", len(G.edges))\n",
    "nx.draw(G)"
   ]
  },
  {
   "cell_type": "code",
   "execution_count": 2,
   "id": "6051cb43-4174-4a19-8535-4d719ae4dbd8",
   "metadata": {},
   "outputs": [],
   "source": [
    "from pyvis.network import Network"
   ]
  },
  {
   "cell_type": "code",
   "execution_count": 8,
   "id": "d2ce5a90-dae2-41c8-aa78-7a705ed8b64d",
   "metadata": {},
   "outputs": [
    {
     "name": "stdout",
     "output_type": "stream",
     "text": [
      "Warning: When  cdn_resources is 'local' jupyter notebook has issues displaying graphics on chrome/safari. Use cdn_resources='in_line' or cdn_resources='remote' if you have issues viewing graphics in a notebook.\n"
     ]
    },
    {
     "data": {
      "text/plain": [
       "{'color': '#97c2fc', 'id': 2, 'label': 'Mom', 'shape': 'dot'}"
      ]
     },
     "execution_count": 8,
     "metadata": {},
     "output_type": "execute_result"
    }
   ],
   "source": [
    "net = Network(notebook=True)\n",
    "net.add_node(1, label=\"Dad\")\n",
    "net.add_node(2, label=\"Mom\")\n",
    "net.add_node(3, label=\"Son\")\n",
    "net.add_node(4, label=\"Daughter\")\n",
    "net.get_node(2)"
   ]
  },
  {
   "cell_type": "code",
   "execution_count": 9,
   "id": "2ead0cec-abae-4300-b031-50359ab70fd7",
   "metadata": {},
   "outputs": [],
   "source": [
    "primary_wt = 0.8\n",
    "secondary_wt = 0.5\n",
    "net.add_edge(1, 2, weight=primary_wt)\n",
    "net.add_edge(1, 3, weight=secondary_wt)\n",
    "net.add_edge(1, 4, weight=secondary_wt)"
   ]
  },
  {
   "cell_type": "code",
   "execution_count": 11,
   "id": "2e823819-b26a-44ee-83fa-8312d30fba60",
   "metadata": {},
   "outputs": [
    {
     "name": "stdout",
     "output_type": "stream",
     "text": [
      "sample1.html\n"
     ]
    },
    {
     "data": {
      "text/html": [
       "\n",
       "        <iframe\n",
       "            width=\"100%\"\n",
       "            height=\"600px\"\n",
       "            src=\"sample1.html\"\n",
       "            frameborder=\"0\"\n",
       "            allowfullscreen\n",
       "            \n",
       "        ></iframe>\n",
       "        "
      ],
      "text/plain": [
       "<IPython.lib.display.IFrame at 0x1082f3510>"
      ]
     },
     "execution_count": 11,
     "metadata": {},
     "output_type": "execute_result"
    }
   ],
   "source": [
    "net.show(\"sample1.html\")"
   ]
  },
  {
   "cell_type": "code",
   "execution_count": 25,
   "id": "5391015b-ba2a-47db-adcb-d5382fe5f466",
   "metadata": {},
   "outputs": [
    {
     "name": "stdout",
     "output_type": "stream",
     "text": [
      "Warning: When  cdn_resources is 'local' jupyter notebook has issues displaying graphics on chrome/safari. Use cdn_resources='in_line' or cdn_resources='remote' if you have issues viewing graphics in a notebook.\n",
      "sample2.html\n"
     ]
    },
    {
     "data": {
      "text/html": [
       "\n",
       "        <iframe\n",
       "            width=\"100%\"\n",
       "            height=\"600px\"\n",
       "            src=\"sample2.html\"\n",
       "            frameborder=\"0\"\n",
       "            allowfullscreen\n",
       "            \n",
       "        ></iframe>\n",
       "        "
      ],
      "text/plain": [
       "<IPython.lib.display.IFrame at 0x109fac2d0>"
      ]
     },
     "execution_count": 25,
     "metadata": {},
     "output_type": "execute_result"
    }
   ],
   "source": [
    "import networkx as nx\n",
    "\n",
    "# define weights for relationships\n",
    "spouse_wt = 4\n",
    "parent_wt = 3\n",
    "sibling_wt = 2\n",
    "step_wt = 2\n",
    "uncle_wt = 2\n",
    "grand_parent_wt = 1\n",
    "\n",
    "\n",
    "# Graph a dict of dicts\n",
    "dod = {\"Dad\": {\"Mom\": {\"weight\": spouse_wt}, \"Son\": {\"weight\": parent_wt}, \"Daughter\": {\"weight\": step_wt}\n",
    "              },\n",
    "#        \"Mom\": {\"Son\": {\"weight\": parent_wt}, \"Daughter\": {\"weight\": parent_wt}},\n",
    "#        \"Son\": {\"Daughter\": {\"weight\": sibling_wt}},\n",
    "\n",
    "    }\n",
    "G = nx.from_dict_of_dicts(dod)\n",
    "nt = Network(notebook=True)\n",
    "nt.from_nx(G)\n",
    "nt.show(\"sample2.html\")"
   ]
  }
 ],
 "metadata": {
  "kernelspec": {
   "display_name": "Python 3 (ipykernel)",
   "language": "python",
   "name": "python3"
  },
  "language_info": {
   "codemirror_mode": {
    "name": "ipython",
    "version": 3
   },
   "file_extension": ".py",
   "mimetype": "text/x-python",
   "name": "python",
   "nbconvert_exporter": "python",
   "pygments_lexer": "ipython3",
   "version": "3.11.7"
  }
 },
 "nbformat": 4,
 "nbformat_minor": 5
}
